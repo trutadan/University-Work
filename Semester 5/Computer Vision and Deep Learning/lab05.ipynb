{
  "cells": [
    {
      "cell_type": "markdown",
      "metadata": {
        "id": "HIlMQWUiUqxO"
      },
      "source": [
        "# Computer vision and deep learning - Laboratory 5\n",
        "\n",
        "In this laboratory, you will continue the semantic segmentation mini-project that we started last time. More specifically, you will write the CNN architecture, define the training loop, perform hyperparameter search and evaluate the best segmentation module."
      ]
    },
    {
      "cell_type": "code",
      "execution_count": 1,
      "metadata": {
        "colab": {
          "base_uri": "https://localhost:8080/"
        },
        "id": "wYMNqbIyVx0R",
        "outputId": "24382955-5d6f-4d2a-8fc0-c9d885292de9"
      },
      "outputs": [
        {
          "output_type": "stream",
          "name": "stdout",
          "text": [
            "Requirement already satisfied: wget in /usr/local/lib/python3.10/dist-packages (3.2)\n"
          ]
        }
      ],
      "source": [
        "!pip install wget\n",
        "!pip install wandb -qU\n",
        "\n",
        "import os\n",
        "import cv2\n",
        "import wget\n",
        "import glob\n",
        "import wandb\n",
        "import shutil\n",
        "import numpy as np\n",
        "\n",
        "import torch\n",
        "import torchvision\n",
        "import matplotlib.pyplot as plt\n",
        "from torchvision.transforms import v2"
      ]
    },
    {
      "cell_type": "code",
      "execution_count": 2,
      "metadata": {
        "colab": {
          "base_uri": "https://localhost:8080/"
        },
        "id": "JomB7EzTgbpe",
        "outputId": "4a81ac32-f7e2-4e9b-c0d6-35c660fffdd7"
      },
      "outputs": [
        {
          "output_type": "stream",
          "name": "stdout",
          "text": [
            "Drive already mounted at /content/drive; to attempt to forcibly remount, call drive.mount(\"/content/drive\", force_remount=True).\n",
            "mkdir: cannot create directory ‘cvdl_lab_4’: File exists\n"
          ]
        }
      ],
      "source": [
        "from google.colab import drive\n",
        "drive.mount('/content/drive')\n",
        "!mkdir 'cvdl_lab_4'"
      ]
    },
    {
      "cell_type": "code",
      "execution_count": 3,
      "metadata": {
        "colab": {
          "base_uri": "https://localhost:8080/"
        },
        "id": "BR0455RNghOB",
        "outputId": "6ed9a198-077c-4310-8448-581f63534141"
      },
      "outputs": [
        {
          "output_type": "stream",
          "name": "stdout",
          "text": [
            "/content\n"
          ]
        }
      ],
      "source": [
        "!cd cvdl_lab_4\n",
        "!pwd"
      ]
    },
    {
      "cell_type": "markdown",
      "metadata": {
        "id": "4cNuZRCCWBQo"
      },
      "source": [
        "## Building the model\n",
        "\n",
        "The model that will be used in this laboratory is inspired by the [U-Net](https://arxiv.org/abs/1505.04597) architecture.\n",
        "U-Net is a fully convolutional neural network comprising two symmetric paths: a contracting path (to capture context) and an expanding path  (which enables precise localization).\n",
        "The network also uses skip connections between the corresponding layers in the downsampling path to the layer in the upsampling path, and thus directly fast-forwards high-resolution feature maps from the encoder to the decoder network.\n",
        "\n",
        "The output of the model is an volume with depth C, where C is the number of pixel classes. For example, if you want to classify the pixels into person and background, the output will be a volume of depth 2.\n",
        "If you want to classify the pixels into face, hair and background the output will be a volume of depth 3.\n",
        "\n",
        "**Read the U-Net paper and try to understand the architecture.**\n",
        "\n",
        "An overview of the U-Net architecture is depicted in the figure below:\n",
        "<img src=\"https://miro.medium.com/max/1400/1*J3t2b65ufsl1x6caf6GiBA.png\"/>\n",
        "\n",
        "\n"
      ]
    },
    {
      "cell_type": "markdown",
      "metadata": {
        "id": "VKKi5UowzvjZ"
      },
      "source": [
        "## The downsampling path\n",
        "\n",
        "\n",
        "For the downsampling path we'll use a convolutional neural network from the pretrained torchvision models.\n",
        "We'll cover this in detail in the next laboratory session.\n",
        "\n",
        "\n",
        "## The upsamping path\n",
        "\n",
        "\n",
        "In the upsampling path, we'll use transposed convolutions to progressively increase the resolution of the activation maps. The layers for the transposed convolution is [ConvTranspose2d](https://pytorch.org/docs/stable/generated/torch.nn.ConvTranspose2d.html).\n",
        "\n",
        "Let's write a function to implement an upsampling block, consisting of a transposed convolution, a batch normalization block and a ReLu activation.\n",
        "\n",
        "Remember, the output size $W_o$ of a transposed convolutional layer is:  \n",
        "\\begin{equation}\n",
        "W_o = (W_i - 1) \\cdot S - 2P + F\n",
        "\\end{equation},\n",
        "\n",
        "where $W_i$ is the size of the input, $S$ is the stride, $P$ is the amount of padding and $F$ is the filter size.\n"
      ]
    },
    {
      "cell_type": "code",
      "execution_count": 4,
      "metadata": {
        "id": "eAyhAkgfCM4O"
      },
      "outputs": [],
      "source": [
        "def upsample_block(x, filters, size, stride = 2):\n",
        "  \"\"\"\n",
        "  x - the input of the upsample block\n",
        "  filters - the number of filters to be applied\n",
        "  size - the size of the filters\n",
        "  \"\"\"\n",
        "\n",
        "  # TODO your code here\n",
        "  # transposed convolution\n",
        "  x = torch.nn.ConvTranspose2d(in_channels=x.size(1), out_channels=filters, kernel_size=size, stride=stride)(x)\n",
        "\n",
        "  # BN\n",
        "  x = torch.nn.BatchNorm2d(num_features=filters)(x)\n",
        "\n",
        "  # relu activation\n",
        "  x = torch.nn.ReLU(inplace=True)(x)\n",
        "\n",
        "  return x"
      ]
    },
    {
      "cell_type": "markdown",
      "metadata": {
        "id": "nOg9FKZmj7dH"
      },
      "source": [
        "Now let's test this upsampling block.\n",
        "Change the parameters of of this function and notice how the shape of the output changes."
      ]
    },
    {
      "cell_type": "code",
      "execution_count": 5,
      "metadata": {
        "colab": {
          "base_uri": "https://localhost:8080/"
        },
        "id": "wDy7Qkzmj6Tv",
        "outputId": "afa97d06-d5a0-4ee9-b35d-e55642bbdc29"
      },
      "outputs": [
        {
          "output_type": "stream",
          "name": "stdout",
          "text": [
            "in shape:  torch.Size([32, 32, 128, 128])  upsample with filter size  4 ; stride  2  -> out shape  torch.Size([32, 16, 258, 258])\n",
            "in shape:  torch.Size([32, 32, 128, 128])  upsample with filter size  4 ; stride  4  -> out shape  torch.Size([32, 16, 512, 512])\n",
            "in shape:  torch.Size([32, 32, 128, 128])  upsample with filter size  4 ; stride  8  -> out shape  torch.Size([32, 16, 1020, 1020])\n"
          ]
        }
      ],
      "source": [
        "in_layer = torch.rand((32, 32, 128, 128))\n",
        "\n",
        "filter_sz = 4\n",
        "num_filters = 16\n",
        "\n",
        "for stride in [2, 4, 8]:\n",
        "  x = upsample_block(in_layer, num_filters, filter_sz, stride)\n",
        "  print('in shape: ', in_layer.shape, ' upsample with filter size ', filter_sz, '; stride ', stride, ' -> out shape ', x.shape)"
      ]
    },
    {
      "cell_type": "code",
      "execution_count": 6,
      "metadata": {
        "id": "WDot66_zrUep"
      },
      "outputs": [],
      "source": [
        "class DoubleSamplingBlock(torch.nn.Module):\n",
        "    def __init__(self, in_channels, out_channels, mid_channels=None):\n",
        "        super().__init__()\n",
        "\n",
        "        if mid_channels is None:\n",
        "            mid_channels = out_channels\n",
        "\n",
        "        # sequential block with two convolutional layers\n",
        "        self.double_conv = torch.nn.Sequential(\n",
        "            torch.nn.Conv2d(in_channels=in_channels, out_channels=mid_channels, kernel_size=3),\n",
        "            torch.nn.BatchNorm2d(mid_channels),\n",
        "            torch.nn.ReLU(inplace=True),\n",
        "\n",
        "            torch.nn.Conv2d(in_channels=mid_channels, out_channels=out_channels, kernel_size=3),\n",
        "            torch.nn.BatchNorm2d(out_channels),\n",
        "            torch.nn.ReLU(inplace=True),\n",
        "        )\n",
        "\n",
        "    def forward(self, X):\n",
        "        return self.double_conv(X)"
      ]
    },
    {
      "cell_type": "markdown",
      "metadata": {
        "id": "5RyM2bNwkMqU"
      },
      "source": [
        "## The down-sampling path\n",
        "\n",
        "\n",
        "For the down-sampling path we'll use a classical convolutional neural network.\n",
        "\n",
        "Write a class Encoder which inherits from ``torch.nn.Module`` for the down-sampling path. The model will be composed of several blocks, each block comprising two convolutional layers (with filter size of 3) with a ``ReLu`` non-linearity between them. The blocks of the encoder will be separated by max pooling layers with a size of 2 and a stride of 2.\n",
        "\n",
        " ![encoder.PNG](data:image/png;base64,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)\n",
        "\n",
        "In the constructor of the Encoder class you will pass as parameter a list containing the number of channels used for each encoder block. In the forward function you will return a list containing the outputs of all the encoder blocks (you’ll be using them for the connection between the down-sampling path and the up-sampling path).\n",
        "\n",
        "You can also use a pre-trained module from torchvision for this. You'll first load the pre-trained weights on ImageNet, and \"freeze\" these weights during the training process (set required_grad=False for those tensors). The problem is that to create the skip connections required by the U-Net architecture we need access to the feature maps of some intermediate layers in the network and these are not accessible by default.\n",
        "\n",
        "You should inspect the implementation of the CNN that you chose, make the Encoder class inherit from the model you chose, and in the forward function, return the output of the layers you selected for the skip connections.\n",
        "\n"
      ]
    },
    {
      "cell_type": "code",
      "execution_count": 7,
      "metadata": {
        "id": "mmTaky3qu2iM"
      },
      "outputs": [],
      "source": [
        "class EncoderBlock(torch.nn.Module):\n",
        "    def __init__(self, in_channels, out_channels) -> None:\n",
        "        super().__init__()\n",
        "        self.encoder = torch.nn.Sequential(\n",
        "            # 2x2 max pooling at the beginning\n",
        "            torch.nn.MaxPool2d(kernel_size=2),\n",
        "\n",
        "            # 2 upsample blocks\n",
        "            DoubleSamplingBlock(in_channels, out_channels=out_channels),\n",
        "        )\n",
        "\n",
        "    def forward(self, X):\n",
        "        return self.encoder(X)"
      ]
    },
    {
      "cell_type": "markdown",
      "metadata": {
        "id": "DxNuI5PClOkB"
      },
      "source": [
        "## The up-sampling path (Decoder)\n",
        "\n",
        "In the upsampling path, we'll use transposed convolutions to progressively increase the resolution of the activation maps. The layers for the transposed convolution is [ConvTranspose2d](https://pytorch.org/docs/stable/generated/torch.nn.ConvTranspose2d.html).\n",
        "\n",
        "Let's write a function to implement an upsampling block, consisting of a transposed convolution, a batch normalization block and a ReLu activation.\n",
        "\n",
        "Remember, the output size $W_o$ of a transposed convolutional layer is:  \n",
        "\\begin{equation}\n",
        "W_o = (W_i - 1) \\cdot S - 2P + F\n",
        "\\end{equation},\n",
        "\n",
        "where $W_i$ is the size of the input, $S$ is the stride, $P$ is the amount of padding and $F$ is the filter size.\n",
        "\n",
        "\n",
        "Similarly to the encoder, the decoder will be composed of several blocks, and each block will consist in a transposed convolution (followed by a batch normalization layer and a ReLU non-linearity) and then by an encoder block.  \n",
        "\n",
        " ![decoder.PNG](data:image/png;base64,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)\n",
        "\n",
        "Write a class Decoder  which inherits from ``torch.nn.Module`` to implement the up-samping path; the constructor of this class will get as parameter the depth of each decoder module, and in the forward function you will have two parameters: the input feature map and a list of activations from the encoder (for the skip connections).  \n",
        "\n",
        "\n",
        "\n",
        "In the forward function, for each block:\n",
        "\n",
        "- apply the up-sampling operation (followed by batch normalization and ReLU);\n",
        "\n",
        "- crop the corresponding activation map from the encoder (use CenterCrop) such that is has the same size as the decoder block;\n",
        "\n",
        "- concatenate these two activation maps (on the channel dimension);\n",
        "\n",
        "- apply an encoder block on the result;\n",
        "\n",
        "- pass the result to the next decoder block.\n",
        "\n"
      ]
    },
    {
      "cell_type": "code",
      "execution_count": 8,
      "metadata": {
        "id": "0b1vc9tDugFC"
      },
      "outputs": [],
      "source": [
        "def center_crop(original_image, target_image):\n",
        "    # get dimensions of the original and target images\n",
        "    original_height, original_width = original_image.shape[-2], original_image.shape[-1]\n",
        "    target_height, target_width = target_image.shape[-2], target_image.shape[-1]\n",
        "\n",
        "    # calculate starting indices for cropping\n",
        "    start_height = max(0, (original_height - target_height) // 2)\n",
        "    start_width = max(0, (original_width - target_width) // 2)\n",
        "\n",
        "    # calculate ending indices for cropping\n",
        "    end_height = start_height + target_height\n",
        "    end_width = start_width + target_width\n",
        "\n",
        "    # perform cropping\n",
        "    cropped_image = original_image[..., start_height:end_height, start_width:end_width]\n",
        "\n",
        "    return cropped_image"
      ]
    },
    {
      "cell_type": "code",
      "execution_count": 9,
      "metadata": {
        "id": "crZCsUnUVZK0"
      },
      "outputs": [],
      "source": [
        "class DecoderBlock(torch.nn.Module):\n",
        "    def __init__(self, input_channels, output_channels) -> None:\n",
        "        super().__init__()\n",
        "\n",
        "        self.up = torch.nn.Sequential(\n",
        "            torch.nn.ConvTranspose2d(\n",
        "                in_channels=input_channels,\n",
        "                out_channels=input_channels // 2,\n",
        "                kernel_size=2,\n",
        "                stride=2,\n",
        "                padding=0\n",
        "            ),\n",
        "            torch.nn.BatchNorm2d(input_channels // 2),\n",
        "            torch.nn.ReLU(inplace=True),\n",
        "        )\n",
        "        self.sampling_block = DoubleSamplingBlock(\n",
        "            in_channels=input_channels,\n",
        "            out_channels=output_channels,\n",
        "            mid_channels=input_channels // 2\n",
        "        )\n",
        "\n",
        "    def forward(self, encoder_features, X):\n",
        "        X = self.up(X)\n",
        "\n",
        "        # center crop the encoder features to match the input\n",
        "        encoder_features = center_crop(encoder_features, X)\n",
        "\n",
        "        # concatenate the encoder features and input along the channel dimension\n",
        "        X = torch.cat([encoder_features, X], dim=1)\n",
        "\n",
        "        # apply the sampling block\n",
        "        X = self.sampling_block(X)\n",
        "\n",
        "        return X"
      ]
    },
    {
      "cell_type": "markdown",
      "metadata": {
        "id": "oARoiKOEr_38"
      },
      "source": [
        "# Simpler implementation\n",
        "\n",
        "Alternatively, you can choose to implement the entire architecture into a single class.\n",
        "\n",
        "In the UNet diagram above, the arrows represent the layers in your network.\n",
        "The blue rectangles represent the feature maps: the number on top of the rectangle is the number of channels of the feature map, while the numbers from the lower left is the spatial shape of the feature map (for example, $572 \\times 572$ - is a feature map of height and width $572$)\n",
        "\n",
        "```\n",
        "class UNet(torch.nn.Module):\n",
        "def __init__(num_classes):\n",
        "    super().__init__()\n",
        "    # TODO your code here create all the UNET layers\n",
        "    # enc_11 -> the first convolutional layer from the first encoder block\n",
        "    # the image is a color image, so the number of channels is 3, while according to the UNet architecture above, the number of output channels is 64\n",
        "    self.enc_11 = torch.nn.Conv2d(in_channels = 3, out_channels = 64, kernel_size = 3)\n",
        "    # enc_12 -> the second convolutional layer from the first encoder block\n",
        "    # 64 input_channels (the input of enc_11 will be the output of enc_11 that has 64 filters),  \n",
        "    self.enc_12 = torch.nn.Conv2d(in_channels = 64, out_channels = 64, kernel_size = 3)\n",
        "    # etc etc\n",
        "   \n",
        "```"
      ]
    },
    {
      "cell_type": "markdown",
      "metadata": {
        "id": "hh3gmb0HlmmW"
      },
      "source": [
        "## Putting it all together\n",
        "\n",
        "Finally, you should write the UNet class which defines the semantic segmentation model. In this class you will use and connect the Encoder and Decoder classes that you previously wrote. The output of the segmentation module will be a volume with as many channels as the number of classes from the segmentation problem. Basically, each channel c from the output will be a map that stores the probability of each pixel to belong to the class c.\n",
        "\n",
        "Apply a 1x1 convolution with c channels on the decoder output to obtain the segmentation map.\n",
        "\n",
        "Finally, to have matching shapes between the network output (segmentation map) and the ground truth data, resize the segmentation map using ``torch.nn.functional.interpolate``.\n",
        "\n",
        "\n",
        "### The training loop\n",
        "\n",
        "\n",
        "Now, it’s time to write the training loop.  \n",
        "\n",
        "You remember the steps from the previous labs. You need a train and a test DataLoader and you must first define the loss function cross entropy and select an optimizer.\n",
        "\n",
        "Then:\n",
        "\n",
        "- Get a batch of training data from the DataLoader\n",
        "- Zero out the optimizer’s gradients\n",
        "- Perform the forward pass\n",
        "- Calculate and store the loss and the accuracy based on the predictions and the labels from the dataset\n",
        "- Tell the optimizer to perform one learning step - that is, adjust the model’s learning weights based on the observed gradients for this batch, according to the optimization algorithm we chose\n",
        "- Evaluate the model on the validation/test set. Store the loss and the accuracy on the validation/test set."
      ]
    },
    {
      "cell_type": "code",
      "execution_count": 10,
      "metadata": {
        "id": "2H-8M-jKVjoe"
      },
      "outputs": [],
      "source": [
        "class UNet(torch.nn.Module):\n",
        "    def __init__(self, in_channels, num_classes, intermediary_filters=64, num_layers=4):\n",
        "        super().__init__()\n",
        "\n",
        "        # initial convolution block\n",
        "        self.in_convolution = DoubleSamplingBlock(\n",
        "            in_channels=in_channels,\n",
        "            out_channels=intermediary_filters,\n",
        "            mid_channels=64\n",
        "        )\n",
        "\n",
        "        # list of encoder blocks\n",
        "        self.encoders = torch.nn.ModuleList([\n",
        "            EncoderBlock(\n",
        "                in_channels=intermediary_filters * 2**i,\n",
        "                out_channels=2 * intermediary_filters * 2**i\n",
        "            ) for i in range(num_layers)\n",
        "        ])\n",
        "\n",
        "        # list of decoder blocks\n",
        "        self.decoders = torch.nn.ModuleList([\n",
        "            DecoderBlock(\n",
        "                input_channels=2 * intermediary_filters * 2**i,\n",
        "                output_channels=intermediary_filters * 2**i\n",
        "            ) for i in range(num_layers)\n",
        "        ])\n",
        "\n",
        "        # output convolution layer\n",
        "        self.out_convolution = torch.nn.Conv2d(\n",
        "            in_channels=intermediary_filters,\n",
        "            out_channels=num_classes,\n",
        "            kernel_size=1\n",
        "        )\n",
        "\n",
        "    def forward(self, X):\n",
        "        X = self.in_convolution(X)\n",
        "\n",
        "        # list to store intermediate outputs from each encoder block\n",
        "        outputs = [X]\n",
        "\n",
        "        # forward pass through encoder blocks\n",
        "        for i, encoder in enumerate(self.encoders):\n",
        "            outputs.append(encoder.forward(outputs[i]))\n",
        "\n",
        "        # get the output from the last encoder block\n",
        "        X = outputs[-1]\n",
        "\n",
        "        # forward pass through decoder blocks in reverse order\n",
        "        for i, decoder in enumerate(self.decoders[::-1]):\n",
        "            X = decoder.forward(outputs[len(self.decoders) - 1 - i], X)\n",
        "\n",
        "        # apply the final output convolution layer\n",
        "        X = self.out_convolution(X)\n",
        "\n",
        "        return X"
      ]
    },
    {
      "cell_type": "markdown",
      "metadata": {
        "id": "23OxRSYSmznF"
      },
      "source": [
        "## Evaluation metrics\n",
        "\n",
        "Finally, you will implement several segmentation metrics to evaluate the model you've just trained. As usual, try to implement these metrics without using any for loops.\n",
        "\n",
        "In the remainder of this section we'll use the following notation:\n",
        "- $n_{ij}$ - the total number of pixels classified to class\n",
        "j but actually belonging to class i; $i, j \\in 1, .., C$;\n",
        "- $t_i = \\sum_{j = 1}^{C} n_{ij}$ - the total number of pixels belonging to class $i$ (in the ground truth segmentation mask);\n",
        "- $C$ - the total number of classes in the segmentation problem.\n",
        "\n",
        "### Mean pixel accuracy\n",
        "\n",
        "Pixel accuracy is the simplest image segmentation metric; it is defined as the percentage of pixels that were correctly classified by the model.\n",
        "\n",
        "\\begin{equation}\n",
        "p_a = \\frac{1}{C} \\frac{\\sum_{i}^{C} n_{ii}}{\\sum_{i}^{C} t_i}\n",
        "\\end{equation}\n",
        "\n",
        "This metric is not that relevant for class imbalanced problems (which occurs for most segmentation problems).\n",
        "\n",
        "### Intersection over Union (IoU)\n",
        "\n",
        "the intersection over union metric is defined as the ratio between the area of intersection and the area of union (between the predicted segmentation mask and the ground truth segmentation mask of a single class).\n",
        "In case of a multi-class segmentation problem, we simple average the IoUs over all the classes. This metric is called mean Intersection over Union (mIou).\n",
        "\n",
        "\\begin{equation}\n",
        "mIoU = \\frac{1}{C} \\sum_{i = 1}^{C} \\frac{n_{ii}}{t_i - n_{ii} + \\sum_{j = 1}^{C} n_{ji}}\n",
        "\\end{equation}\n",
        "\n",
        "The ideal value for this metric is 1; usually values lower than 0.6 indicate a very bad performance.\n",
        "\n",
        "### Frequency Weighted Intersection over Union\n",
        "\n",
        "The frequency weighted over union metric is similar to mean IoU, but the values are weighted with the adequate frequencies of the pixels.\n",
        "\n",
        "\\begin{equation}\n",
        "fIou = (\\sum_{i = 1}^{k} t_i)^{-1}   \\sum_{i = 1}^{C} t_i \\cdot \\frac{n_{ii}}{t_i - n_{ii} + \\sum_{j = 1}^{C} n_{ji}}\n",
        "\\end{equation}\n",
        "\n",
        "The values of this metric lie in the interval [0, 1], and the ideal value for this metric is 1.\n",
        "\n",
        "Compute and report these metrics for your trained model(s).\n",
        "\n"
      ]
    },
    {
      "cell_type": "code",
      "execution_count": 11,
      "metadata": {
        "id": "3Feccka-3-fY"
      },
      "outputs": [],
      "source": [
        "import requests\n",
        "import hashlib\n",
        "import tarfile\n",
        "\n",
        "from tqdm import tqdm\n",
        "from PIL import Image\n",
        "\n",
        "class LFWDataset(torch.utils.data.Dataset):\n",
        "    _DATA = (\n",
        "        # images\n",
        "        (\"http://vis-www.cs.umass.edu/lfw/lfw-funneled.tgz\", None),\n",
        "        # segmentation masks as ppm\n",
        "        (\"https://vis-www.cs.umass.edu/lfw/part_labels/parts_lfw_funneled_gt_images.tgz\",\n",
        "         \"3e7e26e801c3081d651c8c2ef3c45cfc\"),\n",
        "    )\n",
        "\n",
        "    _SPLIT_NAMES = {\n",
        "        \"train\": \"https://vis-www.cs.umass.edu/lfw/part_labels/parts_train.txt\",\n",
        "        \"validation\": \"https://vis-www.cs.umass.edu/lfw/part_labels/parts_validation.txt\",\n",
        "        \"test\": \"https://vis-www.cs.umass.edu/lfw/part_labels/parts_test.txt\"\n",
        "    }\n",
        "\n",
        "    def __init__(self, base_folder, transforms, download=True, split_name: str = 'train'):\n",
        "        super().__init__()\n",
        "        self.base_folder = base_folder\n",
        "        self.transforms = transforms\n",
        "\n",
        "        if download:\n",
        "            self.download_resources(base_folder)\n",
        "\n",
        "        self.X = []\n",
        "        self.Y = []\n",
        "\n",
        "        with open(f\"{base_folder}/parts_{split_name}.txt\") as f:\n",
        "            for line in f:\n",
        "                name = line.split(\" \")[0]\n",
        "                number = (\"%04d\" % int(line.split(\" \")[1]))\n",
        "                raw_file_path = f\"{base_folder}/lfw_funneled/{name}/{name}_{number}.jpg\"\n",
        "                feature_file_path = f\"{base_folder}/parts_lfw_funneled_gt_images/{name}_{number}.ppm\"\n",
        "\n",
        "                self.X.append(cv2.cvtColor(cv2.imread(raw_file_path), cv2.COLOR_BGR2RGB))\n",
        "                self.Y.append(cv2.cvtColor(np.array(Image.open(feature_file_path)), cv2.COLOR_RGB2BGR))\n",
        "\n",
        "                if self.transforms is not None :\n",
        "                    self.X[-1], self.Y[-1] = self.transforms(self.X[-1], self.Y[-1])\n",
        "\n",
        "        print(f\"Number of images: {len(self.X)}\")\n",
        "        print(f\"Number of masks: {len(self.Y)}\")\n",
        "\n",
        "    def __getitem__(self, idx):\n",
        "        return self.X[idx], self.Y[idx]\n",
        "\n",
        "    def download_resources(self, base_folder):\n",
        "        if not os.path.exists(base_folder):\n",
        "            os.makedirs(base_folder)\n",
        "        self._download_and_extract_archive(url=LFWDataset._DATA[1][0], base_folder=base_folder,\n",
        "                                           md5=LFWDataset._DATA[1][1])\n",
        "        self._download_and_extract_archive(url=LFWDataset._DATA[0][0], base_folder=base_folder, md5=None)\n",
        "\n",
        "        self._download_url(url=LFWDataset._SPLIT_NAMES['train'], base_folder=base_folder, md5=None)\n",
        "        self._download_url(url=LFWDataset._SPLIT_NAMES['validation'], base_folder=base_folder, md5=None)\n",
        "        self._download_url(url=LFWDataset._SPLIT_NAMES['test'], base_folder=base_folder, md5=None)\n",
        "\n",
        "    def _download_and_extract_archive(self, url, base_folder, md5) -> None:\n",
        "        \"\"\"\n",
        "          Downloads an archive file from a given URL, saves it to the specified base folder,\n",
        "          and then extracts its contents to the base folder.\n",
        "\n",
        "          Args:\n",
        "          - url (str): The URL from which the archive file needs to be downloaded.\n",
        "          - base_folder (str): The path where the downloaded archive file will be saved and extracted.\n",
        "          - md5 (str): The MD5 checksum of the expected archive file for validation.\n",
        "          \"\"\"\n",
        "        base_folder = os.path.expanduser(base_folder)\n",
        "        filename = os.path.basename(url)\n",
        "\n",
        "        self._download_url(url, base_folder, md5)\n",
        "        archive = os.path.join(base_folder, filename)\n",
        "        print(f\"Extracting {archive} to {base_folder}\")\n",
        "        self._extract_tar_archive(archive, base_folder, True)\n",
        "\n",
        "    def _retreive(self, url, save_location, chunk_size: int = 1024 * 32) -> None:\n",
        "        \"\"\"\n",
        "            Downloads a file from a given URL and saves it to the specified location.\n",
        "\n",
        "            Args:\n",
        "            - url (str): The URL from which the file needs to be downloaded.\n",
        "            - save_location (str): The path where the downloaded file will be saved.\n",
        "            - chunk_size (int, optional): The size of each chunk of data to be downloaded. Defaults to 32 KB.\n",
        "            \"\"\"\n",
        "        try:\n",
        "            response = requests.get(url, stream=True)\n",
        "            total_size = int(response.headers.get('content-length', 0))\n",
        "\n",
        "            with open(save_location, 'wb') as file, tqdm(\n",
        "                    desc=os.path.basename(save_location),\n",
        "                    total=total_size,\n",
        "                    unit='B',\n",
        "                    unit_scale=True,\n",
        "                    unit_divisor=1024,\n",
        "            ) as bar:\n",
        "                for data in response.iter_content(chunk_size=chunk_size):\n",
        "                    file.write(data)\n",
        "                    bar.update(len(data))\n",
        "\n",
        "            print(f\"Download successful. File saved to: {save_location}\")\n",
        "\n",
        "        except Exception as e:\n",
        "            print(f\"An error occurred: {str(e)}\")\n",
        "\n",
        "    def _download_url(self, url: str, base_folder: str, md5: str = None) -> None:\n",
        "        \"\"\"Downloads the file from the url to the specified folder\n",
        "\n",
        "        Args:\n",
        "            url (str): URL to download file from\n",
        "            base_folder (str): Directory to place downloaded file in\n",
        "            md5 (str, optional): MD5 checksum of the download. If None, do not check\n",
        "        \"\"\"\n",
        "        base_folder = os.path.expanduser(base_folder)\n",
        "        filename = os.path.basename(url)\n",
        "        file_path = os.path.join(base_folder, filename)\n",
        "\n",
        "        os.makedirs(base_folder, exist_ok=True)\n",
        "\n",
        "        # check if the file already exists\n",
        "        if self._check_file(file_path, md5):\n",
        "            print(f\"File {file_path} already exists. Using that version\")\n",
        "            return\n",
        "\n",
        "        print(f\"Downloading {url} to file_path\")\n",
        "        self._retreive(url, file_path)\n",
        "\n",
        "        # check integrity of downloaded file\n",
        "        if not self._check_file(file_path, md5):\n",
        "            raise RuntimeError(\"File not found or corrupted.\")\n",
        "\n",
        "    def _extract_tar_archive(self, from_path: str, to_path: str = None, remove_finished: bool = False) -> str:\n",
        "        \"\"\"Extract a tar archive.\n",
        "\n",
        "        Args:\n",
        "            from_path (str): Path to the file to be extracted.\n",
        "            to_path (str): Path to the directory the file will be extracted to. If omitted, the directory of the file is\n",
        "                used.\n",
        "            remove_finished (bool): If True , remove the file after the extraction.\n",
        "        Returns:\n",
        "            (str): Path to the directory the file was extracted to.\n",
        "        \"\"\"\n",
        "        if to_path is None:\n",
        "            to_path = os.path.dirname(from_path)\n",
        "\n",
        "        with tarfile.open(from_path, \"r\") as tar:\n",
        "            tar.extractall(to_path)\n",
        "\n",
        "        if remove_finished:\n",
        "            os.remove(from_path)\n",
        "\n",
        "        return to_path\n",
        "\n",
        "    def _compute_md5(self, filepath: str, chunk_size: int = 1024 * 1024) -> str:\n",
        "        with open(filepath, \"rb\") as f:\n",
        "            md5 = hashlib.md5()\n",
        "            while chunk := f.read(chunk_size):\n",
        "                md5.update(chunk)\n",
        "        return md5.hexdigest()\n",
        "\n",
        "    def _check_file(self, filepath: str, md5: str) -> bool:\n",
        "        if not os.path.isfile(filepath):\n",
        "            return False\n",
        "        if md5 is None:\n",
        "            return True\n",
        "        return self._compute_md5(filepath) == md5\n",
        "\n",
        "    def __len__(self):\n",
        "        # return the total number of samples in the dataset\n",
        "        return len(self.X)"
      ]
    },
    {
      "cell_type": "code",
      "execution_count": 12,
      "metadata": {
        "colab": {
          "base_uri": "https://localhost:8080/"
        },
        "id": "olm2J3Y54NWs",
        "outputId": "c0321e90-a24f-4cae-8607-995c1bff9cf8"
      },
      "outputs": [
        {
          "output_type": "stream",
          "name": "stdout",
          "text": [
            "Number of images: 1500\n",
            "Number of masks: 1500\n",
            "Number of images: 500\n",
            "Number of masks: 500\n"
          ]
        }
      ],
      "source": [
        "from torch.utils.data.dataloader import DataLoader\n",
        "\n",
        "def transform_generator(INPUT_SHAPE):\n",
        "  def transform(X, y):\n",
        "      with torch.no_grad():\n",
        "          if X is not None:\n",
        "              # transpose channels to PyTorch format (C, H, W)\n",
        "              X = X.transpose([2, 0, 1])\n",
        "              # convert to PyTorch tensor\n",
        "              X = torch.from_numpy(X)\n",
        "              X = X.to(torch.float32)\n",
        "              # normalize pixel values to the range [0, 1]\n",
        "              X = X / 255\n",
        "              # resize image to the desired input shape\n",
        "              X = torch.nn.functional.interpolate(X.view(-1, *X.shape), size=INPUT_SHAPE).view(-1, *INPUT_SHAPE)\n",
        "          if y is not None:\n",
        "              # transpose channels to PyTorch format (C, H, W)\n",
        "              y = y.transpose([2, 0, 1])\n",
        "              # convert to PyTorch tensor\n",
        "              y = torch.from_numpy(y)\n",
        "              # convert one-hot encoded label to categorical label\n",
        "              y = torch.argmax(y, dim=0, keepdim=True)\n",
        "              y = y.to(torch.float32)\n",
        "              # resize label to the desired input shape using nearest-neighbor interpolation\n",
        "              y = torch.nn.functional.interpolate(y.view(1, *y.shape), size=INPUT_SHAPE, mode='nearest').view(*INPUT_SHAPE)\n",
        "              y = y.to(torch.int64)\n",
        "      return X, y\n",
        "  return transform\n",
        "\n",
        "BASE_PATH=\"./lfw_dataset\"\n",
        "\n",
        "batch_size = 64\n",
        "\n",
        "train_dataset = LFWDataset(BASE_PATH, download=False, split_name='train', transforms=transform_generator((128, 128)))\n",
        "train_dataloader = DataLoader(train_dataset, batch_size=batch_size, shuffle=True)\n",
        "\n",
        "validation_dataset = LFWDataset(BASE_PATH, download=False, split_name='validation', transforms=transform_generator((128, 128)))\n",
        "validation_dataloader = DataLoader(validation_dataset, batch_size=batch_size, shuffle=True)"
      ]
    },
    {
      "cell_type": "markdown",
      "metadata": {
        "id": "pUXod31hAyFI"
      },
      "source": [
        "# Wandb\n",
        "\n",
        "\n",
        "This time you will use [wandb](https://wandb.ai/) to track your experiments and perform hyperparameter search.\n",
        "\n",
        "\n",
        "1. Log the loss and several metrics after each epoch: use ``wandb.log()`` method within your training loop after each epoch to log the loss and at least two metrics on the train and the validation dataset.\n",
        "\n",
        "\n",
        "2. Use a ``wandb.Table`` to visualize the predictions on the validation dataset across the training process. You can find more details [here](https://colab.research.google.com/github/wandb/examples/blob/master/colabs/datasets-predictions/W%26B_Tables_Quickstart.ipynb#scrollTo=tbOiat0mrWA2).\n",
        "\n",
        "\n",
        "3. [Artifacts](https://docs.wandb.ai/guides/artifacts/construct-an-artifact) are used to track and version any serialized data as the inputs and outputs.\n",
        "\n",
        "\n",
        "\"W&B Artifacts was designed to make it effortless to version your datasets and models, regardless of whether you want to store your files with W&B or whether you already have a bucket you want W&B to track. Once you've tracked your datasets or model files, W&B will automatically log each and every modification, giving you a complete and auditable history of changes to your files.\"\n",
        "\n",
        "\n",
        "Create a class ModelCheckpoint which will be responsible for tracking the best N checkpoints across the training process. This class will monitor a metric, and if the value for that metric is higher/lower (depending on whether the ) than the current max/min, it will save a checkpoint of the model.\n",
        "Also, you should ensure that at a given time only N checkpoints are being saved. So, if the number of saved checkpoints is greater than N, you should perform a cleanup.\n",
        "\n",
        "\n",
        "```\n",
        "    def __call__(self, model, epoch, metric_val):\n",
        "        must_save = metric_val < self.best_metric_val if self.decreasing_metric else metric_val > self.best_metric_val\n",
        "        if must_save:\n",
        "            self.best_metric_val = metric_val\n",
        "            # TODO use torch.save to save the model\n",
        "            # TODO use the function below to log the model artifact\n",
        "       \n",
        "        # TODO if needed, perform cleanup\n",
        "   \n",
        "    def write_artifact(self, path, model_path, metric_val):\n",
        "        artifact = wandb.Artifact(filename, type='model', metadata={'metric': metric_val})\n",
        "        artifact.add_file(model_path)\n",
        "        wandb.run.log_artifact(artifact)    \n",
        "\n",
        "\n",
        "```\n",
        "\n",
        "\n",
        "4. You will also use [wandb sweeps](https://docs.wandb.ai/guides/sweeps) to automate hyperparameter tuning. This module explores different combinations of hyperparameters to help users find the best configuration for their models.\n",
        "\n",
        "[Here](https://www.youtube.com/watch?v=9zrmUIlScdY&ab_channel=Weights%26Biases) you can find a video tutorial on how you can use sweeps in wandb and [here](https://colab.research.google.com/github/wandb/examples/blob/master/colabs/pytorch/Organizing_Hyperparameter_Sweeps_in_PyTorch_with_W%26B.ipynb) the corresponding colab.\n",
        "\n",
        "\n",
        "Random Search is a hyperparameter optimization technique that involves randomly sampling hyperparameter values within specified ranges or distributions. It explores the hyperparameter space by selecting combinations randomly, allowing for a broad search across various configurations without following a specific pattern or grid.\n",
        "\n",
        "\n",
        "Grid Search is a method where hyperparameter values are exhaustively tested across a predefined grid or set of values. It evaluates the model's performance for each combination of hyperparameters within the specified ranges, systematically covering the entire search space to find the optimal configuration.\n",
        "\n",
        "\n",
        "Perform hyperparameter search using wandb sweeps (more details [here](https://wandb.ai/wandb_fc/articles/reports/Running-Hyperparameter-Sweeps-to-Pick-the-Best-Model--Vmlldzo1NDQ0OTIy)) for the learning rate and at least one other parameter.\n",
        "- first perform a random search as a preliminary exploration to identify \"promising\" values for your hyperparameters;\n",
        "- then apply a grid search on this range, to perform a more focused investigation into promising regions for finer optimization.\n",
        "\n"
      ]
    },
    {
      "cell_type": "code",
      "execution_count": 13,
      "metadata": {
        "id": "Tp8Wd_jk0E-N"
      },
      "outputs": [],
      "source": [
        "class ModelCheckpoint:\n",
        "    def __init__(self, metric_name, is_decreasing_metric, keep = 3):\n",
        "        self.best_metric_value = None\n",
        "        self.metric_name = metric_name\n",
        "        self.is_decreasing_metric = is_decreasing_metric\n",
        "        self.keep = keep\n",
        "        self.saved_checkpoints = []\n",
        "\n",
        "    def __call__(self, model, epoch, metric_value):\n",
        "        should_save = self.best_metric_value is None or (\n",
        "            metric_value < self.best_metric_value if self.is_decreasing_metric else metric_value > self.best_metric_value\n",
        "        )\n",
        "\n",
        "        if should_save:\n",
        "            self.best_metric_value = metric_value\n",
        "            torch.save(model, f\"./artifacts/model_save_{self.metric_name}_{metric_value}\")\n",
        "            self.saved_checkpoints.append((f\"./artifacts/model_save_{self.metric_name}_{metric_value}\", metric_value))\n",
        "\n",
        "        while len(self.saved_checkpoints) > self.keep:\n",
        "            os.remove(self.saved_checkpoints[0][0])\n",
        "            self.saved_checkpoints = self.saved_checkpoints[1:]\n",
        "\n",
        "    def __del__(self):\n",
        "        for save in self.saved_checkpoints:\n",
        "            self.write_artifact(save[0], save[1])\n",
        "            os.remove(save[0])\n",
        "\n",
        "    def write_artifact(self, model_path, metric_value):\n",
        "        artifact_name = f\"model_{self.metric_name}\"\n",
        "        artifact = wandb.Artifact(artifact_name, type='model', metadata={'metric': self.metric_name, 'metric_value': metric_value})\n",
        "        artifact.add_file(model_path)\n",
        "\n",
        "        wandb.run.log_artifact(artifact)\n",
        "        artifact.wait()"
      ]
    },
    {
      "cell_type": "code",
      "execution_count": 14,
      "metadata": {
        "id": "koI1U6Nr2wyR"
      },
      "outputs": [],
      "source": [
        "def apply_inverse_transform(image, label):\n",
        "    with torch.no_grad():\n",
        "        if label is not None:\n",
        "            # convert label to one-hot encoding and scale\n",
        "            label = torch.nn.functional.one_hot(label, num_classes=3) * torch.tensor(255)\n",
        "            label = label.to(torch.uint8)\n",
        "            label = label.cpu().numpy()\n",
        "\n",
        "        if image is not None:\n",
        "            # scale image values and transpose\n",
        "            image = image * 255\n",
        "            image = image.to(torch.uint8)\n",
        "            image = image.cpu().numpy()\n",
        "            image = image.transpose([1, 2, 0])\n",
        "\n",
        "    return image, label\n",
        "\n",
        "\n",
        "def calculate_belonging_data(model, dataloader):\n",
        "    model.eval()\n",
        "    total_belonging = None\n",
        "\n",
        "    for images, labels in dataloader:\n",
        "        device = torch.device(\"cuda\" if torch.cuda.is_available() else \"cpu\")\n",
        "\n",
        "        images, labels = images.to(device), labels.to(device)\n",
        "        model_predictions = model(images)\n",
        "        # shape (batch, height, width)\n",
        "        model_predictions = model_predictions.argmax(dim=1)\n",
        "        # class (batch, height, width, class)\n",
        "        model_predictions = torch.nn.functional.one_hot(model_predictions, num_classes=3).float()\n",
        "        model_predictions = torch.nn.functional.interpolate(model_predictions.view(-1, *model_predictions.shape),\n",
        "                                                            size=(*labels.shape[1:], 3), mode='nearest').view(*labels.shape, 3)\n",
        "        model_predictions = model_predictions.long()\n",
        "\n",
        "        ground_truth_one_hot = torch.nn.functional.one_hot(labels, num_classes=3)\n",
        "\n",
        "        # shape(batch, height, width, class)\n",
        "        model_predictions = model_predictions.cpu()\n",
        "        # shape (batch, height, width, class)\n",
        "        ground_truth_one_hot = ground_truth_one_hot.cpu()\n",
        "\n",
        "        model_predictions_shape_list = list(model_predictions.shape)\n",
        "        # shape (batch, heigh, width, 1, class)\n",
        "        model_predictions_shape_list.insert(-1, 1)\n",
        "\n",
        "        # (batch, row, col, ground_class, model_class)\n",
        "        belonging_data = ground_truth_one_hot.view(*ground_truth_one_hot.shape, 1) @ model_predictions.view(\n",
        "            model_predictions_shape_list)\n",
        "        belonging_data = belonging_data.sum(dim=1)\n",
        "        belonging_data = belonging_data.sum(dim=1)\n",
        "        belonging_data = belonging_data.sum(dim=0)\n",
        "\n",
        "        if total_belonging is None:\n",
        "            total_belonging = belonging_data.cpu()\n",
        "        else:\n",
        "            total_belonging += belonging_data.cpu()\n",
        "\n",
        "    return total_belonging\n",
        "\n",
        "\n",
        "def evaluate_model(model, dataloader):\n",
        "    model.eval()\n",
        "\n",
        "    belongind_data = calculate_belonging_data(model, dataloader)\n",
        "    ground_truth_data = torch.sum(belongind_data, dim=1)\n",
        "    correctly_labeled_data = torch.diagonal(belongind_data)\n",
        "\n",
        "    mean_pixel_accuracy = torch.mean(correctly_labeled_data / ground_truth_data)\n",
        "    mean_iou = torch.mean(\n",
        "        correctly_labeled_data / (ground_truth_data - correctly_labeled_data + torch.sum(belongind_data, dim=0)))\n",
        "    weighted_iou = torch.sum(ground_truth_data * (correctly_labeled_data / (\n",
        "            ground_truth_data - correctly_labeled_data + torch.sum(belongind_data, dim=0)))) / torch.sum(\n",
        "        ground_truth_data)\n",
        "\n",
        "    evaluation_metrics = {\n",
        "        'mean_pixel_accuracy': mean_pixel_accuracy,\n",
        "        'mean_iou': mean_iou,\n",
        "        'weighted_iou': weighted_iou\n",
        "    }\n",
        "\n",
        "    return evaluation_metrics"
      ]
    },
    {
      "cell_type": "code",
      "execution_count": 15,
      "metadata": {
        "id": "dj_RRTkJBDbv"
      },
      "outputs": [],
      "source": [
        "import os\n",
        "\n",
        "ARTIFACTS_PATH='./artifacts'\n",
        "os.makedirs(ARTIFACTS_PATH, exist_ok=True)"
      ]
    },
    {
      "cell_type": "code",
      "execution_count": 20,
      "metadata": {
        "id": "ro76AidH0FxM"
      },
      "outputs": [],
      "source": [
        "import wandb\n",
        "\n",
        "number_of_epochs = 50\n",
        "learning_rate = 0.007\n",
        "\n",
        "def train(model):\n",
        "    device = torch.device(\"cuda\" if torch.cuda.is_available() else \"cpu\")\n",
        "    model = model.to(device)\n",
        "\n",
        "    optim = torch.optim.Adam(model.parameters(), lr=learning_rate)\n",
        "\n",
        "    loss_function = torch.nn.CrossEntropyLoss()\n",
        "\n",
        "    metrics = {\n",
        "        'train': {\n",
        "            'loss': [],\n",
        "        },\n",
        "        'validation': {\n",
        "            'loss': [],\n",
        "            'accuracy': [],\n",
        "        }\n",
        "    }\n",
        "\n",
        "    checkpoints = {\n",
        "        'validation_loss': ModelCheckpoint('validation_loss', is_decreasing_metric=True, keep=1),\n",
        "        'mean_pixel_accuracy': ModelCheckpoint('mean_pixel_accuracy', is_decreasing_metric=False, keep=1),\n",
        "        'mean_iou': ModelCheckpoint('mean_iou', is_decreasing_metric=False, keep=1),\n",
        "        'weighted_iou': ModelCheckpoint('weighted_iou', is_decreasing_metric=False, keep=1),\n",
        "    }\n",
        "\n",
        "    for epoch in range(number_of_epochs):\n",
        "        # initialize total training loss for the epoch\n",
        "        total_train_loss = 0\n",
        "        model.train()\n",
        "\n",
        "        # iterate over training data batches\n",
        "        for X, y in train_dataloader:\n",
        "            optim.zero_grad()\n",
        "\n",
        "            X, y = X.to(device), y.to(device)\n",
        "\n",
        "            # forward pass\n",
        "            predicted_labels = model(X)\n",
        "            predicted_labels = torch.nn.functional.interpolate(predicted_labels, size=tuple(y.shape[1:]))\n",
        "\n",
        "            # compute the training loss\n",
        "            loss = loss_function(predicted_labels, y)\n",
        "\n",
        "            # backward pass and optimization step\n",
        "            loss.backward()\n",
        "            optim.step()\n",
        "\n",
        "            total_train_loss += loss.item()\n",
        "\n",
        "        total_validation_loss = 0\n",
        "        model.eval()\n",
        "\n",
        "        columns = [\"source_image\", \"predicted_image\", \"ground_truth\"]\n",
        "        predictions_table = wandb.Table(columns=columns)\n",
        "\n",
        "        # iterate over validation data batches\n",
        "        for X, y in validation_dataloader:\n",
        "            X, y = X.to(device), y.to(device)\n",
        "\n",
        "            # forward pass\n",
        "            predicted_labels = model(X)\n",
        "            predicted_labels = torch.nn.functional.interpolate(predicted_labels, size=tuple(y.shape[1:]))\n",
        "\n",
        "            # compute the validation loss\n",
        "            loss = loss_function(predicted_labels, y)\n",
        "            total_validation_loss += loss.item()\n",
        "            predicted_labels = predicted_labels.argmax(dim=1)\n",
        "\n",
        "            # get the predicted labels and apply inverse transform for visualization\n",
        "            for (source_image, prediction_image, ground_truth) in zip(X, predicted_labels, y):\n",
        "                _, predicted_labels = apply_inverse_transform(source_image, prediction_image)\n",
        "                X, y = apply_inverse_transform(source_image, ground_truth)\n",
        "                predictions_table.add_data(wandb.Image(X), wandb.Image(predicted_labels), wandb.Image(y))\n",
        "\n",
        "        # calculate average training and validation losses\n",
        "        average_train_loss = total_train_loss / len(train_dataloader)\n",
        "        average_validation_loss = total_validation_loss / len(validation_dataloader)\n",
        "\n",
        "        # update the losses dictionary\n",
        "        metrics['train']['loss'].append(average_train_loss)\n",
        "        metrics['validation']['loss'].append(average_validation_loss)\n",
        "\n",
        "        # evaluate the model on validation data\n",
        "        with torch.no_grad():\n",
        "            model_eval = evaluate_model(model, validation_dataloader)\n",
        "\n",
        "        metrics['validation']['accuracy'].append(model_eval['mean_pixel_accuracy'])\n",
        "\n",
        "        log_data = {\n",
        "            'train_loss': average_train_loss,\n",
        "            'validation_loss': average_validation_loss,\n",
        "            'mean_pixel_accuracy': model_eval['mean_pixel_accuracy'],\n",
        "            'mean_iou': model_eval['mean_iou'],\n",
        "            'weighted_iou': model_eval['weighted_iou'],\n",
        "            'predictions_table': predictions_table\n",
        "        }\n",
        "\n",
        "        # remove predictions_table from logging after the last epoch\n",
        "        if epoch + 1 < number_of_epochs:\n",
        "            del log_data['predictions_table']\n",
        "\n",
        "        # log data to WandB\n",
        "        wandb.log(log_data)\n",
        "\n",
        "        # save checkpoints for metrics\n",
        "        for k in checkpoints.keys():\n",
        "            checkpoints[k](model, epoch, log_data[k])\n",
        "\n",
        "        print(f\"Epoch [{epoch + 1}/{number_of_epochs}], Train Loss: {average_train_loss:.4f}, Validation Loss: {average_validation_loss:.4f}\")\n",
        "\n",
        "    return model, metrics"
      ]
    },
    {
      "cell_type": "code",
      "execution_count": 21,
      "metadata": {
        "colab": {
          "base_uri": "https://localhost:8080/",
          "height": 1000,
          "referenced_widgets": [
            "e1341ef31eb44f7087549032dea4c539",
            "db76fcd3355b40e0bf453d7f49b2726d",
            "6e3c7b0d806a4394aee9f34002901fb4",
            "fc9a023fa2914e1c87a2ac58c9ddbf79",
            "ed371d3efad048af887515c919f3b767",
            "1f3d36cb792c4cfba5d0d494c8437d6a",
            "0ba0e21f95714697a066bb20ee2f8168",
            "fa725529bb5c49cc836a9576ba58748a"
          ]
        },
        "id": "Wixwtxt31wmW",
        "outputId": "095217e7-e0fe-4077-947d-7b52afe16604"
      },
      "outputs": [
        {
          "output_type": "display_data",
          "data": {
            "text/plain": [
              "<IPython.core.display.HTML object>"
            ],
            "text/html": [
              "Tracking run with wandb version 0.16.2"
            ]
          },
          "metadata": {}
        },
        {
          "output_type": "display_data",
          "data": {
            "text/plain": [
              "<IPython.core.display.HTML object>"
            ],
            "text/html": [
              "Run data is saved locally in <code>/content/wandb/run-20240117_234148-il1tavhu</code>"
            ]
          },
          "metadata": {}
        },
        {
          "output_type": "display_data",
          "data": {
            "text/plain": [
              "<IPython.core.display.HTML object>"
            ],
            "text/html": [
              "Syncing run <strong><a href='https://wandb.ai/trutadan-personal/uncategorized/runs/il1tavhu' target=\"_blank\">devoted-meadow-19</a></strong> to <a href='https://wandb.ai/trutadan-personal/uncategorized' target=\"_blank\">Weights & Biases</a> (<a href='https://wandb.me/run' target=\"_blank\">docs</a>)<br/>"
            ]
          },
          "metadata": {}
        },
        {
          "output_type": "display_data",
          "data": {
            "text/plain": [
              "<IPython.core.display.HTML object>"
            ],
            "text/html": [
              " View project at <a href='https://wandb.ai/trutadan-personal/uncategorized' target=\"_blank\">https://wandb.ai/trutadan-personal/uncategorized</a>"
            ]
          },
          "metadata": {}
        },
        {
          "output_type": "display_data",
          "data": {
            "text/plain": [
              "<IPython.core.display.HTML object>"
            ],
            "text/html": [
              " View run at <a href='https://wandb.ai/trutadan-personal/uncategorized/runs/il1tavhu' target=\"_blank\">https://wandb.ai/trutadan-personal/uncategorized/runs/il1tavhu</a>"
            ]
          },
          "metadata": {}
        },
        {
          "output_type": "stream",
          "name": "stdout",
          "text": [
            "Epoch [1/50], Train Loss: 0.6632, Validation Loss: 2.8518\n",
            "Epoch [2/50], Train Loss: 0.4717, Validation Loss: 0.6321\n",
            "Epoch [3/50], Train Loss: 0.4371, Validation Loss: 0.4599\n",
            "Epoch [4/50], Train Loss: 0.4163, Validation Loss: 0.6195\n",
            "Epoch [5/50], Train Loss: 0.4054, Validation Loss: 0.6843\n",
            "Epoch [6/50], Train Loss: 0.3834, Validation Loss: 0.4228\n",
            "Epoch [7/50], Train Loss: 0.3637, Validation Loss: 0.5856\n",
            "Epoch [8/50], Train Loss: 0.3617, Validation Loss: 0.4955\n",
            "Epoch [9/50], Train Loss: 0.3422, Validation Loss: 0.3856\n",
            "Epoch [10/50], Train Loss: 0.3183, Validation Loss: 0.4041\n",
            "Epoch [11/50], Train Loss: 0.2943, Validation Loss: 0.3446\n",
            "Epoch [12/50], Train Loss: 0.2852, Validation Loss: 0.4647\n",
            "Epoch [13/50], Train Loss: 0.2770, Validation Loss: 0.3109\n",
            "Epoch [14/50], Train Loss: 0.2588, Validation Loss: 0.3538\n",
            "Epoch [15/50], Train Loss: 0.2527, Validation Loss: 0.2655\n",
            "Epoch [16/50], Train Loss: 0.2347, Validation Loss: 0.2653\n",
            "Epoch [17/50], Train Loss: 0.2254, Validation Loss: 0.2586\n",
            "Epoch [18/50], Train Loss: 0.2137, Validation Loss: 0.2640\n",
            "Epoch [19/50], Train Loss: 0.2067, Validation Loss: 0.2552\n",
            "Epoch [20/50], Train Loss: 0.2039, Validation Loss: 0.2343\n",
            "Epoch [21/50], Train Loss: 0.1923, Validation Loss: 0.2428\n",
            "Epoch [22/50], Train Loss: 0.1870, Validation Loss: 0.2075\n",
            "Epoch [23/50], Train Loss: 0.1858, Validation Loss: 0.2345\n",
            "Epoch [24/50], Train Loss: 0.1796, Validation Loss: 0.2269\n",
            "Epoch [25/50], Train Loss: 0.1735, Validation Loss: 0.2093\n",
            "Epoch [26/50], Train Loss: 0.1705, Validation Loss: 0.2377\n",
            "Epoch [27/50], Train Loss: 0.1675, Validation Loss: 0.1979\n",
            "Epoch [28/50], Train Loss: 0.1605, Validation Loss: 0.2235\n",
            "Epoch [29/50], Train Loss: 0.1595, Validation Loss: 0.1949\n",
            "Epoch [30/50], Train Loss: 0.1500, Validation Loss: 0.2207\n",
            "Epoch [31/50], Train Loss: 0.1479, Validation Loss: 0.1949\n",
            "Epoch [32/50], Train Loss: 0.1475, Validation Loss: 0.2158\n",
            "Epoch [33/50], Train Loss: 0.1428, Validation Loss: 0.2050\n",
            "Epoch [34/50], Train Loss: 0.1440, Validation Loss: 0.1889\n",
            "Epoch [35/50], Train Loss: 0.1359, Validation Loss: 0.2023\n",
            "Epoch [36/50], Train Loss: 0.1304, Validation Loss: 0.2015\n",
            "Epoch [37/50], Train Loss: 0.1226, Validation Loss: 0.1914\n",
            "Epoch [38/50], Train Loss: 0.1217, Validation Loss: 0.1887\n",
            "Epoch [39/50], Train Loss: 0.1190, Validation Loss: 0.2080\n",
            "Epoch [40/50], Train Loss: 0.1163, Validation Loss: 0.1938\n",
            "Epoch [41/50], Train Loss: 0.1123, Validation Loss: 0.1941\n",
            "Epoch [42/50], Train Loss: 0.1078, Validation Loss: 0.1947\n",
            "Epoch [43/50], Train Loss: 0.1113, Validation Loss: 0.2026\n",
            "Epoch [44/50], Train Loss: 0.1099, Validation Loss: 0.2024\n",
            "Epoch [45/50], Train Loss: 0.1089, Validation Loss: 0.2278\n",
            "Epoch [46/50], Train Loss: 0.1059, Validation Loss: 0.2033\n",
            "Epoch [47/50], Train Loss: 0.1019, Validation Loss: 0.2050\n",
            "Epoch [48/50], Train Loss: 0.0950, Validation Loss: 0.2060\n",
            "Epoch [49/50], Train Loss: 0.0932, Validation Loss: 0.2175\n",
            "Epoch [50/50], Train Loss: 0.0891, Validation Loss: 0.2082\n"
          ]
        },
        {
          "output_type": "stream",
          "name": "stderr",
          "text": [
            "\u001b[34m\u001b[1mwandb\u001b[0m: Waiting for artifact model_validation_loss to be committed...\n"
          ]
        },
        {
          "output_type": "display_data",
          "data": {
            "text/plain": [
              "VBox(children=(Label(value='0.001 MB of 15.567 MB uploaded\\r'), FloatProgress(value=7.860171049084716e-05, max…"
            ],
            "application/vnd.jupyter.widget-view+json": {
              "version_major": 2,
              "version_minor": 0,
              "model_id": "e1341ef31eb44f7087549032dea4c539"
            }
          },
          "metadata": {}
        },
        {
          "output_type": "stream",
          "name": "stderr",
          "text": [
            "\n",
            "\u001b[34m\u001b[1mwandb\u001b[0m: Committed artifact trutadan-personal/uncategorized/model_validation_loss:v7\n",
            "\u001b[34m\u001b[1mwandb\u001b[0m: Waiting for artifact model_mean_pixel_accuracy to be committed...\n",
            "\n",
            "\u001b[34m\u001b[1mwandb\u001b[0m: Committed artifact trutadan-personal/uncategorized/model_mean_pixel_accuracy:v8\n",
            "\u001b[34m\u001b[1mwandb\u001b[0m: Waiting for artifact model_mean_iou to be committed...\n",
            "\n",
            "\u001b[34m\u001b[1mwandb\u001b[0m: Committed artifact trutadan-personal/uncategorized/model_mean_iou:v7\n",
            "\u001b[34m\u001b[1mwandb\u001b[0m: Waiting for artifact model_weighted_iou to be committed...\n",
            "\n",
            "\u001b[34m\u001b[1mwandb\u001b[0m: Committed artifact trutadan-personal/uncategorized/model_weighted_iou:v7\n"
          ]
        },
        {
          "output_type": "display_data",
          "data": {
            "text/plain": [
              "<IPython.core.display.HTML object>"
            ],
            "text/html": [
              "<style>\n",
              "    table.wandb td:nth-child(1) { padding: 0 10px; text-align: left ; width: auto;} td:nth-child(2) {text-align: left ; width: 100%}\n",
              "    .wandb-row { display: flex; flex-direction: row; flex-wrap: wrap; justify-content: flex-start; width: 100% }\n",
              "    .wandb-col { display: flex; flex-direction: column; flex-basis: 100%; flex: 1; padding: 10px; }\n",
              "    </style>\n",
              "<div class=\"wandb-row\"><div class=\"wandb-col\"><h3>Run history:</h3><br/><table class=\"wandb\"><tr><td>mean_iou</td><td>▁▃▅▄▆▄▅▆▆▅▆▆▇▇▇▇▇█▇▇▇█▇█████████████████</td></tr><tr><td>mean_pixel_accuracy</td><td>▁▂▄▂▆▃▃▆▅▄▆▆▇▇▆█▇▇▇▇▇█▇█▇███▇██▇████████</td></tr><tr><td>train_loss</td><td>█▆▅▅▅▄▄▄▄▃▃▃▃▃▃▂▂▂▂▂▂▂▂▂▂▂▂▂▂▁▁▁▁▁▁▁▁▁▁▁</td></tr><tr><td>validation_loss</td><td>█▂▂▂▂▂▂▂▁▂▁▁▁▁▁▁▁▁▁▁▁▁▁▁▁▁▁▁▁▁▁▁▁▁▁▁▁▁▁▁</td></tr><tr><td>weighted_iou</td><td>▁▅▆▅▆▅▆▇▇▆▇▇▇▇▇▇████████████████████████</td></tr></table><br/></div><div class=\"wandb-col\"><h3>Run summary:</h3><br/><table class=\"wandb\"><tr><td>mean_iou</td><td>0.797</td></tr><tr><td>mean_pixel_accuracy</td><td>0.87257</td></tr><tr><td>train_loss</td><td>0.08905</td></tr><tr><td>validation_loss</td><td>0.20822</td></tr><tr><td>weighted_iou</td><td>0.87417</td></tr></table><br/></div></div>"
            ]
          },
          "metadata": {}
        },
        {
          "output_type": "display_data",
          "data": {
            "text/plain": [
              "<IPython.core.display.HTML object>"
            ],
            "text/html": [
              " View run <strong style=\"color:#cdcd00\">devoted-meadow-19</strong> at: <a href='https://wandb.ai/trutadan-personal/uncategorized/runs/il1tavhu' target=\"_blank\">https://wandb.ai/trutadan-personal/uncategorized/runs/il1tavhu</a><br/>Synced 5 W&B file(s), 1 media file(s), 1505 artifact file(s) and 0 other file(s)"
            ]
          },
          "metadata": {}
        },
        {
          "output_type": "display_data",
          "data": {
            "text/plain": [
              "<IPython.core.display.HTML object>"
            ],
            "text/html": [
              "Find logs at: <code>./wandb/run-20240117_234148-il1tavhu/logs</code>"
            ]
          },
          "metadata": {}
        }
      ],
      "source": [
        "model = UNet(in_channels=3, num_layers=2, num_classes=3, intermediary_filters=32)\n",
        "\n",
        "wandb.login(timeout=300)\n",
        "wandb.init()\n",
        "\n",
        "model, train_validation_metrics = train(model)\n",
        "\n",
        "wandb.finish()"
      ]
    },
    {
      "cell_type": "code",
      "source": [
        "def plot_metrics(metrics):\n",
        "    epochs = range(1, len(metrics['train']['loss']) + 1)\n",
        "\n",
        "    # Plot training and validation losses\n",
        "    plt.figure(figsize=(12, 5))\n",
        "    plt.subplot(1, 2, 1)\n",
        "    plt.plot(epochs, metrics['train']['loss'], label='Training Loss')\n",
        "    plt.plot(epochs, metrics['validation']['loss'], label='Validation Loss')\n",
        "    plt.title('Training and Validation Loss')\n",
        "    plt.xlabel('Epochs')\n",
        "    plt.ylabel('Loss')\n",
        "    plt.legend()\n",
        "\n",
        "    # Plot training and validation accuracies\n",
        "    plt.subplot(1, 2, 2)\n",
        "    plt.plot(epochs, metrics['validation']['accuracy'], label='Validation Accuracy')\n",
        "    plt.title('Validation Accuracy')\n",
        "    plt.xlabel('Epochs')\n",
        "    plt.ylabel('Accuracy')\n",
        "    plt.legend()\n",
        "\n",
        "    plt.tight_layout()\n",
        "    plt.show()"
      ],
      "metadata": {
        "id": "Gv0WUPV2vKMs"
      },
      "execution_count": 29,
      "outputs": []
    },
    {
      "cell_type": "code",
      "source": [
        "plot_metrics(train_validation_metrics)"
      ],
      "metadata": {
        "id": "dSG3_TUhvNDO",
        "colab": {
          "base_uri": "https://localhost:8080/",
          "height": 470
        },
        "outputId": "50053c96-2d11-47a7-9c3e-e1b867d660ee"
      },
      "execution_count": 30,
      "outputs": [
        {
          "output_type": "display_data",
          "data": {
            "text/plain": [
              "<Figure size 1200x500 with 2 Axes>"
            ],
            "image/png": "[encoded data removed]"
          },
          "metadata": {}
        }
      ]
    },
    {
      "cell_type": "code",
      "source": [
        "test_dataset = LFWDataset(BASE_PATH, download=False, split_name='test', transforms=transform_generator((128, 128)))\n",
        "test_dataloader = DataLoader(test_dataset, batch_size=batch_size, shuffle=True)"
      ],
      "metadata": {
        "id": "Jk9Ki4zNsaqt",
        "colab": {
          "base_uri": "https://localhost:8080/"
        },
        "outputId": "2a1c5fa3-759b-4981-ce60-1a19f6a0d8b8"
      },
      "execution_count": 24,
      "outputs": [
        {
          "output_type": "stream",
          "name": "stdout",
          "text": [
            "Number of images: 927\n",
            "Number of masks: 927\n"
          ]
        }
      ]
    },
    {
      "cell_type": "code",
      "source": [
        "def test(model, dataloader):\n",
        "    model.eval()\n",
        "\n",
        "    correct_predictions = 0\n",
        "    total_samples = 0\n",
        "    total_loss = 0\n",
        "\n",
        "    loss_function = torch.nn.CrossEntropyLoss()\n",
        "    device = torch.device(\"cuda\" if torch.cuda.is_available() else \"cpu\")\n",
        "\n",
        "    with torch.no_grad():\n",
        "        for X, y in dataloader:\n",
        "            X, y = X.to(device), y.to(device)\n",
        "\n",
        "            # forward pass\n",
        "            predicted_labels = model(X)\n",
        "            predicted_labels = torch.nn.functional.interpolate(predicted_labels, size=tuple(y.shape[1:]))\n",
        "\n",
        "            # compute loss\n",
        "            loss = loss_function(predicted_labels, y)\n",
        "            total_loss += loss.item()\n",
        "\n",
        "        # compute accuracy using evaluate_model after iterating through the entire dataset\n",
        "        accuracy = evaluate_model(model, dataloader)['mean_pixel_accuracy']\n",
        "        average_loss = total_loss / len(dataloader)\n",
        "\n",
        "    return accuracy, average_loss"
      ],
      "metadata": {
        "id": "_0X7v7W_tQkv"
      },
      "execution_count": 25,
      "outputs": []
    },
    {
      "cell_type": "code",
      "source": [
        "test_accuracy, test_loss = test(model, test_dataloader)\n",
        "\n",
        "print(f\"Test Accuracy: {test_accuracy:.4f}\")\n",
        "print(f\"Test Loss: {test_loss:.4f}\")"
      ],
      "metadata": {
        "id": "MBOT1oEItQs2",
        "colab": {
          "base_uri": "https://localhost:8080/"
        },
        "outputId": "5bb23a84-d999-40ae-eaf1-cdc647fd48b0"
      },
      "execution_count": 26,
      "outputs": [
        {
          "output_type": "stream",
          "name": "stdout",
          "text": [
            "Test Accuracy: 0.8742\n",
            "Test Loss: 0.2079\n"
          ]
        }
      ]
    },
    {
      "cell_type": "code",
      "source": [
        "import pickle\n",
        "\n",
        "# save the model for the gradio\n",
        "with open('saved_model.pkl', 'wb') as f:\n",
        "    pickle.dump(model, f)"
      ],
      "metadata": {
        "id": "o3fN1gx7pNrN"
      },
      "execution_count": 27,
      "outputs": []
    }
  ],
  "metadata": {
    "colab": {
      "provenance": [],
      "gpuType": "T4"
    },
    "kernelspec": {
      "display_name": "Python 3",
      "name": "python3"
    },
    "language_info": {
      "name": "python"
    },
    "widgets": {
      "application/vnd.jupyter.widget-state+json": {
        "e1341ef31eb44f7087549032dea4c539": {
          "model_module": "@jupyter-widgets/controls",
          "model_name": "VBoxModel",
          "model_module_version": "1.5.0",
          "state": {
            "_dom_classes": [],
            "_model_module": "@jupyter-widgets/controls",
            "_model_module_version": "1.5.0",
            "_model_name": "VBoxModel",
            "_view_count": null,
            "_view_module": "@jupyter-widgets/controls",
            "_view_module_version": "1.5.0",
            "_view_name": "VBoxView",
            "box_style": "",
            "children": [
              "IPY_MODEL_db76fcd3355b40e0bf453d7f49b2726d",
              "IPY_MODEL_6e3c7b0d806a4394aee9f34002901fb4"
            ],
            "layout": "IPY_MODEL_fc9a023fa2914e1c87a2ac58c9ddbf79"
          }
        },
        "db76fcd3355b40e0bf453d7f49b2726d": {
          "model_module": "@jupyter-widgets/controls",
          "model_name": "LabelModel",
          "model_module_version": "1.5.0",
          "state": {
            "_dom_classes": [],
            "_model_module": "@jupyter-widgets/controls",
            "_model_module_version": "1.5.0",
            "_model_name": "LabelModel",
            "_view_count": null,
            "_view_module": "@jupyter-widgets/controls",
            "_view_module_version": "1.5.0",
            "_view_name": "LabelView",
            "description": "",
            "description_tooltip": null,
            "layout": "IPY_MODEL_ed371d3efad048af887515c919f3b767",
            "placeholder": "​",
            "style": "IPY_MODEL_1f3d36cb792c4cfba5d0d494c8437d6a",
            "value": "21.193 MB of 21.193 MB uploaded\r"
          }
        },
        "6e3c7b0d806a4394aee9f34002901fb4": {
          "model_module": "@jupyter-widgets/controls",
          "model_name": "FloatProgressModel",
          "model_module_version": "1.5.0",
          "state": {
            "_dom_classes": [],
            "_model_module": "@jupyter-widgets/controls",
            "_model_module_version": "1.5.0",
            "_model_name": "FloatProgressModel",
            "_view_count": null,
            "_view_module": "@jupyter-widgets/controls",
            "_view_module_version": "1.5.0",
            "_view_name": "ProgressView",
            "bar_style": "",
            "description": "",
            "description_tooltip": null,
            "layout": "IPY_MODEL_0ba0e21f95714697a066bb20ee2f8168",
            "max": 1,
            "min": 0,
            "orientation": "horizontal",
            "style": "IPY_MODEL_fa725529bb5c49cc836a9576ba58748a",
            "value": 1
          }
        },
        "fc9a023fa2914e1c87a2ac58c9ddbf79": {
          "model_module": "@jupyter-widgets/base",
          "model_name": "LayoutModel",
          "model_module_version": "1.2.0",
          "state": {
            "_model_module": "@jupyter-widgets/base",
            "_model_module_version": "1.2.0",
            "_model_name": "LayoutModel",
            "_view_count": null,
            "_view_module": "@jupyter-widgets/base",
            "_view_module_version": "1.2.0",
            "_view_name": "LayoutView",
            "align_content": null,
            "align_items": null,
            "align_self": null,
            "border": null,
            "bottom": null,
            "display": null,
            "flex": null,
            "flex_flow": null,
            "grid_area": null,
            "grid_auto_columns": null,
            "grid_auto_flow": null,
            "grid_auto_rows": null,
            "grid_column": null,
            "grid_gap": null,
            "grid_row": null,
            "grid_template_areas": null,
            "grid_template_columns": null,
            "grid_template_rows": null,
            "height": null,
            "justify_content": null,
            "justify_items": null,
            "left": null,
            "margin": null,
            "max_height": null,
            "max_width": null,
            "min_height": null,
            "min_width": null,
            "object_fit": null,
            "object_position": null,
            "order": null,
            "overflow": null,
            "overflow_x": null,
            "overflow_y": null,
            "padding": null,
            "right": null,
            "top": null,
            "visibility": null,
            "width": null
          }
        },
        "ed371d3efad048af887515c919f3b767": {
          "model_module": "@jupyter-widgets/base",
          "model_name": "LayoutModel",
          "model_module_version": "1.2.0",
          "state": {
            "_model_module": "@jupyter-widgets/base",
            "_model_module_version": "1.2.0",
            "_model_name": "LayoutModel",
            "_view_count": null,
            "_view_module": "@jupyter-widgets/base",
            "_view_module_version": "1.2.0",
            "_view_name": "LayoutView",
            "align_content": null,
            "align_items": null,
            "align_self": null,
            "border": null,
            "bottom": null,
            "display": null,
            "flex": null,
            "flex_flow": null,
            "grid_area": null,
            "grid_auto_columns": null,
            "grid_auto_flow": null,
            "grid_auto_rows": null,
            "grid_column": null,
            "grid_gap": null,
            "grid_row": null,
            "grid_template_areas": null,
            "grid_template_columns": null,
            "grid_template_rows": null,
            "height": null,
            "justify_content": null,
            "justify_items": null,
            "left": null,
            "margin": null,
            "max_height": null,
            "max_width": null,
            "min_height": null,
            "min_width": null,
            "object_fit": null,
            "object_position": null,
            "order": null,
            "overflow": null,
            "overflow_x": null,
            "overflow_y": null,
            "padding": null,
            "right": null,
            "top": null,
            "visibility": null,
            "width": null
          }
        },
        "1f3d36cb792c4cfba5d0d494c8437d6a": {
          "model_module": "@jupyter-widgets/controls",
          "model_name": "DescriptionStyleModel",
          "model_module_version": "1.5.0",
          "state": {
            "_model_module": "@jupyter-widgets/controls",
            "_model_module_version": "1.5.0",
            "_model_name": "DescriptionStyleModel",
            "_view_count": null,
            "_view_module": "@jupyter-widgets/base",
            "_view_module_version": "1.2.0",
            "_view_name": "StyleView",
            "description_width": ""
          }
        },
        "0ba0e21f95714697a066bb20ee2f8168": {
          "model_module": "@jupyter-widgets/base",
          "model_name": "LayoutModel",
          "model_module_version": "1.2.0",
          "state": {
            "_model_module": "@jupyter-widgets/base",
            "_model_module_version": "1.2.0",
            "_model_name": "LayoutModel",
            "_view_count": null,
            "_view_module": "@jupyter-widgets/base",
            "_view_module_version": "1.2.0",
            "_view_name": "LayoutView",
            "align_content": null,
            "align_items": null,
            "align_self": null,
            "border": null,
            "bottom": null,
            "display": null,
            "flex": null,
            "flex_flow": null,
            "grid_area": null,
            "grid_auto_columns": null,
            "grid_auto_flow": null,
            "grid_auto_rows": null,
            "grid_column": null,
            "grid_gap": null,
            "grid_row": null,
            "grid_template_areas": null,
            "grid_template_columns": null,
            "grid_template_rows": null,
            "height": null,
            "justify_content": null,
            "justify_items": null,
            "left": null,
            "margin": null,
            "max_height": null,
            "max_width": null,
            "min_height": null,
            "min_width": null,
            "object_fit": null,
            "object_position": null,
            "order": null,
            "overflow": null,
            "overflow_x": null,
            "overflow_y": null,
            "padding": null,
            "right": null,
            "top": null,
            "visibility": null,
            "width": null
          }
        },
        "fa725529bb5c49cc836a9576ba58748a": {
          "model_module": "@jupyter-widgets/controls",
          "model_name": "ProgressStyleModel",
          "model_module_version": "1.5.0",
          "state": {
            "_model_module": "@jupyter-widgets/controls",
            "_model_module_version": "1.5.0",
            "_model_name": "ProgressStyleModel",
            "_view_count": null,
            "_view_module": "@jupyter-widgets/base",
            "_view_module_version": "1.2.0",
            "_view_name": "StyleView",
            "bar_color": null,
            "description_width": ""
          }
        }
      }
    },
    "accelerator": "GPU"
  },
  "nbformat": 4,
  "nbformat_minor": 0
}