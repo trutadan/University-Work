{
 "cells": [
  {
   "cell_type": "markdown",
   "id": "b8210b19",
   "metadata": {},
   "source": [
    "## A.I. Assignment 5\n",
    "\n",
    "## Learning Goals\n",
    "\n",
    "By the end of this lab, you should be able to:\n",
    "* Get more familiar with tensors in pytorch \n",
    "* Create a simple multilayer perceptron model with pytorch\n",
    "* Visualise the parameters\n",
    "\n",
    "\n",
    "### Task\n",
    "\n",
    "Build a fully connected feed forward network that adds two bits. Determine the a propper achitecture for this network (what database you use for this problem? how many layers? how many neurons on each layer? what is the activation function? what is the loss function? etc)\n",
    "\n",
    "Create at least 3 such networks and compare their performance (how accurate they are?, how farst they are trained to get at 1 accuracy?)\n",
    "\n",
    "Display for the best one the weights for each layer.\n"
   ]
  },
  {
   "cell_type": "code",
   "execution_count": 1,
   "id": "e3614e5f",
   "metadata": {},
   "outputs": [],
   "source": [
    "import torch\n",
    "import torch.nn as nn\n",
    "from collections import OrderedDict\n"
   ]
  },
  {
   "cell_type": "code",
   "execution_count": 52,
   "id": "5ee7e7d7",
   "metadata": {},
   "outputs": [],
   "source": [
    "# your code here\n",
    "#model1 = nn.Sequential(OrderedDict([\n",
    "#    ('hidden', nn.\n",
    "#]))\n",
    "model1 = nn.Sequential(OrderedDict([\n",
    "    ('hidden', nn.Linear(2, 4)),\n",
    "    ('output', nn.Linear(4, 1)),\n",
    "    ('sigmoid', nn.Sigmoid())\n",
    "]))"
   ]
  },
  {
   "cell_type": "code",
   "execution_count": 53,
   "id": "665ae958",
   "metadata": {},
   "outputs": [
    {
     "name": "stdout",
     "output_type": "stream",
     "text": [
      "Sequential(\n",
      "  (hidden): Linear(in_features=2, out_features=4, bias=True)\n",
      "  (output): Linear(in_features=4, out_features=1, bias=True)\n",
      "  (sigmoid): Sigmoid()\n",
      ")\n"
     ]
    }
   ],
   "source": [
    "print(model1)"
   ]
  },
  {
   "cell_type": "code",
   "execution_count": 54,
   "outputs": [],
   "source": [
    "model2 = nn.Sequential(OrderedDict([\n",
    "    ('hidden1', nn.Linear(2, 4)),\n",
    "    ('hidden2', nn.Linear(4, 4)),\n",
    "    ('output', nn.Linear(4, 1)),\n",
    "    ('sigmoid', nn.Sigmoid())\n",
    "]))"
   ],
   "metadata": {
    "collapsed": false
   }
  },
  {
   "cell_type": "code",
   "execution_count": 55,
   "outputs": [
    {
     "name": "stdout",
     "output_type": "stream",
     "text": [
      "Sequential(\n",
      "  (hidden1): Linear(in_features=2, out_features=4, bias=True)\n",
      "  (hidden2): Linear(in_features=4, out_features=4, bias=True)\n",
      "  (output): Linear(in_features=4, out_features=1, bias=True)\n",
      "  (sigmoid): Sigmoid()\n",
      ")\n"
     ]
    }
   ],
   "source": [
    "print(model2)"
   ],
   "metadata": {
    "collapsed": false
   }
  },
  {
   "cell_type": "code",
   "execution_count": 56,
   "outputs": [],
   "source": [
    "model3 = nn.Sequential(OrderedDict([\n",
    "    ('hidden1', nn.Linear(2, 8)),\n",
    "    ('relu', nn.ReLU()),\n",
    "    ('hidden2', nn.Linear(8, 8)),\n",
    "    ('output', nn.Linear(8, 1)),\n",
    "    ('sigmoid', nn.Sigmoid())\n",
    "]))"
   ],
   "metadata": {
    "collapsed": false
   }
  },
  {
   "cell_type": "code",
   "execution_count": 57,
   "outputs": [
    {
     "name": "stdout",
     "output_type": "stream",
     "text": [
      "Sequential(\n",
      "  (hidden1): Linear(in_features=2, out_features=8, bias=True)\n",
      "  (relu): ReLU()\n",
      "  (hidden2): Linear(in_features=8, out_features=8, bias=True)\n",
      "  (output): Linear(in_features=8, out_features=1, bias=True)\n",
      "  (sigmoid): Sigmoid()\n",
      ")\n"
     ]
    }
   ],
   "source": [
    "print(model3)"
   ],
   "metadata": {
    "collapsed": false
   }
  },
  {
   "cell_type": "code",
   "execution_count": 58,
   "id": "e26f0d3e",
   "metadata": {},
   "outputs": [
    {
     "name": "stdout",
     "output_type": "stream",
     "text": [
      "tensor([[0., 0.],\n",
      "        [0., 1.],\n",
      "        [1., 0.],\n",
      "        [1., 1.]])\n"
     ]
    }
   ],
   "source": [
    "# your code here\n",
    "data_in = torch.tensor([[0, 0], [0, 1], [1, 0], [1, 1]], dtype=torch.float32)\n",
    "print(data_in)"
   ]
  },
  {
   "cell_type": "code",
   "execution_count": 59,
   "id": "4fb16bbc",
   "metadata": {},
   "outputs": [
    {
     "name": "stdout",
     "output_type": "stream",
     "text": [
      "tensor([[0.],\n",
      "        [1.],\n",
      "        [1.],\n",
      "        [0.]])\n"
     ]
    }
   ],
   "source": [
    "# your code here\n",
    "data_target = torch.tensor([[0], [1], [1], [0]], dtype=torch.float32)\n",
    "print(data_target)"
   ]
  },
  {
   "cell_type": "code",
   "execution_count": 60,
   "outputs": [
    {
     "data": {
      "text/plain": "<Figure size 640x480 with 1 Axes>",
      "image/png": "[encoded data removed]"
     },
     "metadata": {},
     "output_type": "display_data"
    }
   ],
   "source": [
    "# visualize the results\n",
    "import matplotlib.pyplot as plt\n",
    "\n",
    "# plot the input data\n",
    "plt.scatter(data_in[:,0], data_in[:,1], c=data_target.squeeze())\n",
    "plt.title('Input Data')\n",
    "plt.xlabel('Input 1')\n",
    "plt.ylabel('Input 2')\n",
    "plt.show()"
   ],
   "metadata": {
    "collapsed": false
   }
  },
  {
   "cell_type": "code",
   "execution_count": 61,
   "id": "69d920ed",
   "metadata": {},
   "outputs": [],
   "source": [
    "# your code here\n",
    "criterion = nn.BCELoss()"
   ]
  },
  {
   "cell_type": "code",
   "execution_count": 62,
   "id": "cde91f6f",
   "metadata": {},
   "outputs": [
    {
     "name": "stdout",
     "output_type": "stream",
     "text": [
      "Model 1\n",
      "Epoch [100/1000], Loss: 0.6933\n",
      "Epoch [200/1000], Loss: 0.6932\n",
      "Epoch [300/1000], Loss: 0.6932\n",
      "Epoch [400/1000], Loss: 0.6932\n",
      "Epoch [500/1000], Loss: 0.6932\n",
      "Epoch [600/1000], Loss: 0.6932\n",
      "Epoch [700/1000], Loss: 0.6932\n",
      "Epoch [800/1000], Loss: 0.6932\n",
      "Epoch [900/1000], Loss: 0.6931\n",
      "Epoch [1000/1000], Loss: 0.6931\n",
      "Weights for Model 1:\n",
      "hidden.weight tensor([[-0.4031, -0.0521],\n",
      "        [-0.0892,  0.4430],\n",
      "        [-0.1118,  0.6030],\n",
      "        [ 0.1278,  0.6767]])\n",
      "hidden.bias tensor([-0.1945, -0.2166, -0.1531, -0.0081])\n",
      "output.weight tensor([[ 0.1384, -0.4541,  0.0755,  0.2421]])\n",
      "output.bias tensor([-0.0625])\n"
     ]
    }
   ],
   "source": [
    "# your code here\n",
    "# Train the models\n",
    "num_epochs = 1000\n",
    "\n",
    "# train model1\n",
    "optimizer = torch.optim.SGD(model1.parameters(), lr=0.1)\n",
    "print(\"Model 1\")\n",
    "for epoch in range(num_epochs):\n",
    "    # forward pass\n",
    "    outputs1 = model1(data_in)\n",
    "    loss = criterion(outputs1, data_target)\n",
    "\n",
    "    # backward pass and optimization\n",
    "    optimizer.zero_grad()\n",
    "    loss.backward()\n",
    "    optimizer.step()\n",
    "\n",
    "    # print the loss every 100 epochs\n",
    "    if (epoch + 1) % 100 == 0:\n",
    "        print(f'Epoch [{epoch+1}/{num_epochs}], Loss: {loss.item():.4f}')\n",
    "\n",
    "# print model1 weights\n",
    "print('Weights for Model 1:')\n",
    "for name, param in model1.named_parameters():\n",
    "    if param.requires_grad:\n",
    "        print(name, param.data)"
   ]
  },
  {
   "cell_type": "code",
   "execution_count": 63,
   "outputs": [
    {
     "name": "stdout",
     "output_type": "stream",
     "text": [
      "Model 2\n",
      "Epoch [100/1000], Loss: 0.6932\n",
      "Epoch [200/1000], Loss: 0.6932\n",
      "Epoch [300/1000], Loss: 0.6932\n",
      "Epoch [400/1000], Loss: 0.6932\n",
      "Epoch [500/1000], Loss: 0.6932\n",
      "Epoch [600/1000], Loss: 0.6932\n",
      "Epoch [700/1000], Loss: 0.6932\n",
      "Epoch [800/1000], Loss: 0.6932\n",
      "Epoch [900/1000], Loss: 0.6932\n",
      "Epoch [1000/1000], Loss: 0.6932\n",
      "Weights for Model 2:\n",
      "hidden1.weight tensor([[ 0.0805, -0.0942],\n",
      "        [-0.7229,  0.2155],\n",
      "        [ 0.3533,  0.4768],\n",
      "        [ 0.6080, -0.5744]])\n",
      "hidden1.bias tensor([ 0.0270, -0.4517,  0.3175, -0.5335])\n",
      "hidden2.weight tensor([[ 0.0575,  0.2577,  0.0371,  0.1643],\n",
      "        [-0.1546, -0.3894, -0.4022,  0.0430],\n",
      "        [-0.4345, -0.2695,  0.2705, -0.1590],\n",
      "        [-0.1105, -0.0591, -0.0161,  0.4392]])\n",
      "hidden2.bias tensor([-0.0248, -0.3344, -0.0117, -0.4204])\n",
      "output.weight tensor([[-0.3054,  0.1482, -0.0829, -0.1479]])\n",
      "output.bias tensor([-0.0779])\n"
     ]
    }
   ],
   "source": [
    "# train model2\n",
    "optimizer = torch.optim.SGD(model2.parameters(), lr=0.1)\n",
    "print(\"Model 2\")\n",
    "for epoch in range(num_epochs):\n",
    "    # forward pass\n",
    "    outputs2 = model2(data_in)\n",
    "    loss = criterion(outputs2, data_target)\n",
    "\n",
    "    # backward pass and optimization\n",
    "    optimizer.zero_grad()\n",
    "    loss.backward()\n",
    "    optimizer.step()\n",
    "\n",
    "    # print the loss every 100 epochs\n",
    "    if (epoch + 1) % 100 == 0:\n",
    "        print(f'Epoch [{epoch+1}/{num_epochs}], Loss: {loss.item():.4f}')\n",
    "\n",
    "# print model2 weights\n",
    "print('Weights for Model 2:')\n",
    "for name, param in model2.named_parameters():\n",
    "    if param.requires_grad:\n",
    "        print(name, param.data)"
   ],
   "metadata": {
    "collapsed": false
   }
  },
  {
   "cell_type": "code",
   "execution_count": 64,
   "outputs": [
    {
     "name": "stdout",
     "output_type": "stream",
     "text": [
      "Model 3\n",
      "Epoch [100/1000], Loss: 0.5919\n",
      "Epoch [200/1000], Loss: 0.1660\n",
      "Epoch [300/1000], Loss: 0.0316\n",
      "Epoch [400/1000], Loss: 0.0129\n",
      "Epoch [500/1000], Loss: 0.0074\n",
      "Epoch [600/1000], Loss: 0.0050\n",
      "Epoch [700/1000], Loss: 0.0037\n",
      "Epoch [800/1000], Loss: 0.0028\n",
      "Epoch [900/1000], Loss: 0.0023\n",
      "Epoch [1000/1000], Loss: 0.0019\n",
      "Weights for Model 3:\n",
      "hidden1.weight tensor([[ 0.8019,  0.5439],\n",
      "        [-1.0740, -1.0739],\n",
      "        [ 1.1052,  1.6634],\n",
      "        [-0.9666, -0.9664],\n",
      "        [ 0.2930, -0.3866],\n",
      "        [ 0.3068,  0.0457],\n",
      "        [ 0.2720,  0.6609],\n",
      "        [-1.1884,  1.1883]])\n",
      "hidden1.bias tensor([ 4.6174e-01,  1.0741e+00, -1.1054e+00,  9.6626e-01, -5.2571e-01,\n",
      "         4.8316e-01, -1.6464e-02,  1.0237e-04])\n",
      "hidden2.weight tensor([[ 8.4192e-02,  9.8400e-02, -2.6137e-01, -9.2657e-02,  6.3076e-02,\n",
      "          2.7515e-01,  3.3573e-01, -2.5194e-01],\n",
      "        [-3.9872e-01,  1.0924e+00,  1.4375e+00,  9.7945e-01,  1.7757e-01,\n",
      "         -4.0802e-01,  1.2819e-01, -1.1124e+00],\n",
      "        [ 2.2850e-01, -8.6970e-01, -9.0636e-01, -8.5333e-01,  9.2470e-02,\n",
      "         -8.1595e-02, -5.9249e-02,  3.1067e-01],\n",
      "        [-9.8913e-02, -2.6719e-02,  3.4563e-02, -1.8144e-02,  3.0679e-01,\n",
      "         -2.3857e-01, -8.3087e-04,  1.3569e-01],\n",
      "        [ 4.1960e-01, -3.9633e-01, -7.8448e-01, -1.7375e-01,  1.8475e-01,\n",
      "          2.0722e-01, -3.2601e-01,  5.9102e-01],\n",
      "        [-2.2234e-01,  2.9502e-01,  3.7637e-01,  1.2169e-01, -1.1348e-01,\n",
      "         -1.2429e-01, -2.5125e-01,  1.0875e-01],\n",
      "        [-4.1751e-02, -6.3689e-01, -1.1128e+00, -5.3919e-01, -1.1183e-01,\n",
      "          3.6827e-02,  1.9660e-01,  9.0756e-01],\n",
      "        [ 3.2763e-01,  3.7513e-01,  5.9013e-02, -2.8168e-01, -3.7140e-02,\n",
      "          1.5787e-01,  2.7874e-01, -1.5251e-01]])\n",
      "hidden2.bias tensor([ 0.2706, -0.1906,  0.3103,  0.3268,  0.5592, -0.0022,  0.3938, -0.2869])\n",
      "output.weight tensor([[ 0.0980, -2.3608,  1.4940,  0.0958,  1.1833, -0.4040,  1.6578, -0.1601]])\n",
      "output.bias tensor([0.3701])\n"
     ]
    }
   ],
   "source": [
    "# train model3\n",
    "optimizer = torch.optim.SGD(model3.parameters(), lr=0.1)\n",
    "print(\"Model 3\")\n",
    "for epoch in range(num_epochs):\n",
    "    # forward pass\n",
    "    outputs3 = model3(data_in)\n",
    "    loss = criterion(outputs3, data_target)\n",
    "\n",
    "    # backward pass and optimization\n",
    "    optimizer.zero_grad()\n",
    "    loss.backward()\n",
    "    optimizer.step()\n",
    "\n",
    "    # print the loss every 100 epochs\n",
    "    if (epoch + 1) % 100 == 0:\n",
    "        print(f'Epoch [{epoch+1}/{num_epochs}], Loss: {loss.item():.4f}')\n",
    "\n",
    "# print model3 weights\n",
    "print('Weights for Model 3:')\n",
    "for name, param in model3.named_parameters():\n",
    "    if param.requires_grad:\n",
    "        print(name, param.data)"
   ],
   "metadata": {
    "collapsed": false
   }
  },
  {
   "cell_type": "code",
   "execution_count": 65,
   "id": "dff3ec1a",
   "metadata": {},
   "outputs": [
    {
     "data": {
      "text/plain": "<Figure size 640x480 with 1 Axes>",
      "image/png": "[encoded data removed]"
     },
     "metadata": {},
     "output_type": "display_data"
    },
    {
     "data": {
      "text/plain": "<Figure size 640x480 with 1 Axes>",
      "image/png": "[encoded data removed]"
     },
     "metadata": {},
     "output_type": "display_data"
    },
    {
     "data": {
      "text/plain": "<Figure size 640x480 with 1 Axes>",
      "image/png": "[encoded data removed]"
     },
     "metadata": {},
     "output_type": "display_data"
    }
   ],
   "source": [
    "# plot the predicted output of each model\n",
    "for i, model in enumerate([model1, model2, model3], start=1):\n",
    "    predicted = model(data_in)\n",
    "    predicted = predicted.squeeze().detach().numpy()\n",
    "    plt.scatter(data_in[:,0], data_in[:,1], c=predicted)\n",
    "    plt.title(f'Predicted Output of Model {i}')\n",
    "    plt.xlabel('Input 1')\n",
    "    plt.ylabel('Input 2')\n",
    "    plt.show()"
   ]
  },
  {
   "cell_type": "code",
   "execution_count": null,
   "outputs": [],
   "source": [],
   "metadata": {
    "collapsed": false
   }
  }
 ],
 "metadata": {
  "kernelspec": {
   "display_name": "Python 3 (ipykernel)",
   "language": "python",
   "name": "python3"
  },
  "language_info": {
   "codemirror_mode": {
    "name": "ipython",
    "version": 3
   },
   "file_extension": ".py",
   "mimetype": "text/x-python",
   "name": "python",
   "nbconvert_exporter": "python",
   "pygments_lexer": "ipython3",
   "version": "3.9.13"
  }
 },
 "nbformat": 4,
 "nbformat_minor": 5
}
